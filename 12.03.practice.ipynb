{
 "cells": [
  {
   "cell_type": "code",
   "execution_count": 1,
   "id": "e6223769-f997-4ea9-886b-4bb87de71c3f",
   "metadata": {},
   "outputs": [
    {
     "name": "stdout",
     "output_type": "stream",
     "text": [
      "24\n"
     ]
    }
   ],
   "source": [
    "#What will be the output of the following code? \n",
    "\n",
    "#abs(x) returns the absolute value of x.\n",
    "#pow(3, 2) computes 3 raised to the power of 2\n",
    "x = -15 \n",
    "print(abs(x) + pow(3, 2)) "
   ]
  },
  {
   "cell_type": "code",
   "execution_count": 2,
   "id": "2c7bd161-2b64-4e75-afe6-d8d3b88ecb5d",
   "metadata": {},
   "outputs": [
    {
     "name": "stdout",
     "output_type": "stream",
     "text": [
      "0b101101\n",
      "0x2d\n"
     ]
    }
   ],
   "source": [
    "#Convert the number 45 to its binary and hexadecimal representations using Python functions. \n",
    "\n",
    "#Binary number - bin()\n",
    "#hexadecimal number - hex()\n",
    "\n",
    "num=45\n",
    "num_binary=bin(num)\n",
    "num_hex=hex(num)\n",
    "print(num_binary)\n",
    "print(num_hex)"
   ]
  },
  {
   "cell_type": "code",
   "execution_count": 3,
   "id": "04c328af-8f88-4ff0-89f3-6888fd062e99",
   "metadata": {},
   "outputs": [
    {
     "name": "stdout",
     "output_type": "stream",
     "text": [
      "<class 'str'>\n"
     ]
    }
   ],
   "source": [
    "# What will be the output of the following? \n",
    "print(type(bin(25))) "
   ]
  },
  {
   "cell_type": "code",
   "execution_count": 4,
   "id": "5a2d81ab-992d-4126-b2a6-f3a02c5bdbb5",
   "metadata": {},
   "outputs": [
    {
     "name": "stdout",
     "output_type": "stream",
     "text": [
      "5.7\n"
     ]
    }
   ],
   "source": [
    "# What will be the output of the following code? \n",
    "num = 5.6789 \n",
    "print(round(num, 1)) "
   ]
  },
  {
   "cell_type": "code",
   "execution_count": 11,
   "id": "5a867c3d-2bcb-4c50-b076-a8673ff8b9b0",
   "metadata": {},
   "outputs": [
    {
     "name": "stdout",
     "output_type": "stream",
     "text": [
      "<class 'str'>\n"
     ]
    }
   ],
   "source": [
    "# Convert the string \"20.75\" into a float and add 5 to it. \n",
    "\n",
    "string=\"20.75\"\n",
    "print(type(string))"
   ]
  },
  {
   "cell_type": "code",
   "execution_count": 23,
   "id": "496e12bf-7f68-45eb-94b0-75ee39d87ddd",
   "metadata": {},
   "outputs": [
    {
     "name": "stdout",
     "output_type": "stream",
     "text": [
      "25.75\n"
     ]
    }
   ],
   "source": [
    "string=\"20.75\"\n",
    "num_2=float(string)\n",
    "final=num_2 + 5\n",
    "\n",
    "print(final)"
   ]
  },
  {
   "cell_type": "code",
   "execution_count": 27,
   "id": "192d22e1-60a9-4cf8-91b2-79dcac46a075",
   "metadata": {},
   "outputs": [
    {
     "data": {
      "text/plain": [
       "10.0"
      ]
     },
     "execution_count": 27,
     "metadata": {},
     "output_type": "execute_result"
    }
   ],
   "source": [
    "# What is the difference between float(10) and int(10.5) in terms of output? \n",
    "# float(10) converts the int 10 into a float 10.0\n",
    "float(10)"
   ]
  },
  {
   "cell_type": "code",
   "execution_count": 26,
   "id": "d80ad741-b1a3-4d46-8bc9-ad9634663e63",
   "metadata": {},
   "outputs": [
    {
     "data": {
      "text/plain": [
       "10"
      ]
     },
     "execution_count": 26,
     "metadata": {},
     "output_type": "execute_result"
    }
   ],
   "source": [
    "# int(10.5) converts the float 10.5 into an integer 10 by truncating\n",
    "int(10.5)"
   ]
  },
  {
   "cell_type": "code",
   "execution_count": 28,
   "id": "cbe4fc56-8bc8-4e11-8146-bd3cc816cf6d",
   "metadata": {},
   "outputs": [
    {
     "name": "stdout",
     "output_type": "stream",
     "text": [
      "python programming\n"
     ]
    }
   ],
   "source": [
    "# Given s = \" Python Programming \", write a line of code to remove extra spaces and convert it to lowercase. \n",
    "\n",
    "# Use .strip() to remove spaces\n",
    "# Use .lower() to conert it to lowercase\n",
    "\n",
    "s = \" Python Programming \"\n",
    "s2=s.strip().lower()\n",
    "print(s2)"
   ]
  },
  {
   "cell_type": "code",
   "execution_count": 29,
   "id": "a1f0dd53-d3dd-4d79-8d37-a3ed21ed9614",
   "metadata": {},
   "outputs": [
    {
     "name": "stdout",
     "output_type": "stream",
     "text": [
      "hello Python\n"
     ]
    }
   ],
   "source": [
    "# What will be the output of the following? \n",
    "# text = \"hello world\" \n",
    "# print(text.replace(\"world\", \"Python\")) \n",
    "\n",
    "text = \"hello world\"\n",
    "print(text.replace(\"world\", \"Python\"))\n",
    "\n",
    "# The function replace() replaces the word \"world\" in the text variable with \"python\""
   ]
  },
  {
   "cell_type": "code",
   "execution_count": 30,
   "id": "39331717-74b6-44af-919f-219018701971",
   "metadata": {},
   "outputs": [
    {
     "name": "stdout",
     "output_type": "stream",
     "text": [
      "['apple', 'banana', 'grapes']\n"
     ]
    }
   ],
   "source": [
    "# Write a Python expression to split \"apple,banana,grapes\" into a list of individual fruits. \n",
    "# .split()\n",
    "\n",
    "fruits=\"apple,banana,grapes\".split(\",\")\n",
    "print(fruits)"
   ]
  },
  {
   "cell_type": "code",
   "execution_count": 31,
   "id": "9d00a783-a099-4e77-b7d8-ca1e899b7971",
   "metadata": {},
   "outputs": [
    {
     "name": "stdout",
     "output_type": "stream",
     "text": [
      "2\n"
     ]
    }
   ],
   "source": [
    "# Given numbers = [3, 1, 4, 1, 5, 9], write a line of code to count how many times 1 appears in the list. \n",
    "\n",
    "# .count()\n",
    "\n",
    "nums= [3, 1, 4, 1, 5, 9]\n",
    "nums1=nums.count(1)\n",
    "print(nums1)"
   ]
  },
  {
   "cell_type": "code",
   "execution_count": 32,
   "id": "1259fe38-9681-4c56-ba2c-08fa828de356",
   "metadata": {},
   "outputs": [
    {
     "name": "stdout",
     "output_type": "stream",
     "text": [
      "['apple', 'cherry', 'mango']\n"
     ]
    }
   ],
   "source": [
    "# What will be the output of the following? \n",
    "# fruits = ['apple', 'banana', 'cherry'] \n",
    "# fruits.append('mango') \n",
    "# fruits.remove('banana') \n",
    "# print(fruits) \n",
    "\n",
    "fruits = ['apple', 'banana', 'cherry'] \n",
    "fruits.append('mango') \n",
    "fruits.remove('banana') \n",
    "print(fruits)\n",
    "\n",
    "# The above functions add a string element to the fruits list and removes banana from the list"
   ]
  },
  {
   "cell_type": "code",
   "execution_count": 36,
   "id": "eb841973-4a96-4f62-a475-db198ab7c5c0",
   "metadata": {},
   "outputs": [
    {
     "name": "stdout",
     "output_type": "stream",
     "text": [
      "[45, 56, 78, 89]\n"
     ]
    }
   ],
   "source": [
    "# Write a Python expression to sort marks = [78, 56, 89, 45] in ascending order.\n",
    "# We use sort() to arrange the marks in ascending order\n",
    "\n",
    "marks = [78, 56, 89, 45]\n",
    "new_marks=marks.sort()\n",
    "print(marks)"
   ]
  },
  {
   "cell_type": "code",
   "execution_count": null,
   "id": "6a9aa13d-3a73-4b60-bdb8-6161cf284a5e",
   "metadata": {},
   "outputs": [],
   "source": []
  }
 ],
 "metadata": {
  "kernelspec": {
   "display_name": "Python 3 (ipykernel)",
   "language": "python",
   "name": "python3"
  },
  "language_info": {
   "codemirror_mode": {
    "name": "ipython",
    "version": 3
   },
   "file_extension": ".py",
   "mimetype": "text/x-python",
   "name": "python",
   "nbconvert_exporter": "python",
   "pygments_lexer": "ipython3",
   "version": "3.13.2"
  }
 },
 "nbformat": 4,
 "nbformat_minor": 5
}
